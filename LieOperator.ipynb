{
 "cells": [
  {
   "cell_type": "code",
   "execution_count": 90,
   "metadata": {},
   "outputs": [],
   "source": [
    "import numpy as np\n",
    "import pandas as pd\n",
    "import sympy\n",
    "from operator import mul\n",
    "from functools import reduce\n",
    "from mpmath import fac\n",
    "import functools\n",
    "from sympy import init_printing\n",
    "from IPython.display import display_latex\n",
    "init_printing()"
   ]
  },
  {
   "cell_type": "code",
   "execution_count": 91,
   "metadata": {},
   "outputs": [],
   "source": [
    "from sympy import Expr, Symbol, Eq, Mul, Add, Pow, expand, sympify, Tuple\n",
    "from sympy.core.basic import Basic\n",
    "from sympy.core.operations import AssocOp\n",
    "\n",
    "from sympy.core.singleton import (Singleton, S)\n",
    "from sympy.core.decorators import _sympifyit, call_highest_priority\n",
    "from sympy.core.cache import cacheit\n",
    "\n",
    "from sympy.core.function import diff\n",
    "from sympy.series.order import Order\n"
   ]
  },
  {
   "cell_type": "code",
   "execution_count": 92,
   "metadata": {},
   "outputs": [
    {
     "data": {
      "text/plain": [
       "property"
      ]
     },
     "execution_count": 92,
     "metadata": {},
     "output_type": "execute_result"
    }
   ],
   "source": [
    "type(Expr.func)"
   ]
  },
  {
   "cell_type": "code",
   "execution_count": 87,
   "metadata": {},
   "outputs": [],
   "source": [
    "class LieOperatorExpr(Expr):\n",
    "    _op_priority = 12.0\n",
    "    \n",
    "    is_LieOperator = True\n",
    "    is_Identity = False\n",
    "    \n",
    "    def __neg__(self):\n",
    "        return DOMul(S.NegativeOne, self)\n",
    "    \n",
    "    def __abs__(self):\n",
    "        raise NotImplementedError\n",
    "\n",
    "    @_sympifyit('other', NotImplemented)\n",
    "    @call_highest_priority('__radd__')\n",
    "    def __add__(self, other):\n",
    "        return DOAdd(self, other)\n",
    "    @_sympifyit('other', NotImplemented)\n",
    "    @call_highest_priority('__add__')\n",
    "    def __radd__(self, other):\n",
    "        return DOAdd(other, self)\n",
    "    \n",
    "    @_sympifyit('other', NotImplemented)\n",
    "    @call_highest_priority('__rmul__')\n",
    "    def __mul__(self, other):\n",
    "        return DOMul(self, other)\n",
    "    @_sympifyit('other', NotImplemented)\n",
    "    @call_highest_priority('__mul__')\n",
    "    def __rmul__(self, other):\n",
    "        return DOMul(other, self)\n",
    "\n",
    "    @_sympifyit('other', NotImplemented)\n",
    "    @call_highest_priority('__rpow__')\n",
    "    def __pow__(self, other):\n",
    "        return DOPow(self, other)\n",
    "    @_sympifyit('other', NotImplemented)\n",
    "    @call_highest_priority('__pow__')\n",
    "    def __rpow__(self, other):\n",
    "        raise NotImplementedError(\"DiffOperator Power is not defined\")\n",
    "    @_sympifyit('other', NotImplemented)\n",
    "    @call_highest_priority('__rdiv__')\n",
    "    def __div__(self, other):\n",
    "        return DOMul(self, other**S.NegativeOne)\n",
    "    @_sympifyit('other', NotImplemented)\n",
    "    @call_highest_priority('__div__')\n",
    "    def __rdiv__(self, other):\n",
    "        return DOMul(other, self**S.NegativeOne)\n",
    "\n",
    "class LieOperatorOne(LieOperatorExpr):\n",
    "    \"\"\"\n",
    "    Represents the identic operator ( DiffOperator**0).\n",
    "    \"\"\"\n",
    "\n",
    "    __metaclass__ = Singleton\n",
    "\n",
    "    is_Identity = True\n",
    "\n",
    "class LieOperator(LieOperatorExpr):\n",
    "    \"\"\"\n",
    "    >>> from sympy.abc import x, a\n",
    "    >>> from sympy.core.function import Function\n",
    "    >>> from sympy.tensor.diff_operator import DiffOperator\n",
    "    >>> f = Function(\"f\")\n",
    "\n",
    "    >>> Lx = LieOperator(x)\n",
    "\n",
    "\n",
    "    >>> Lx + Lx\n",
    "    DiffOperator(x) + DiffOperator(x)\n",
    "\n",
    "    >>> Lx(f(x))\n",
    "    Derivative(f(x), x)\n",
    "\n",
    "    >>> Dx + Dx**2\n",
    "    DiffOperator(x) + DiffOperator(x)**2\n",
    "\n",
    "    >>> (Dx + Dx**2)(f(x))\n",
    "    Derivative(f(x), x) + Derivative(f(x), x, x)\n",
    "\n",
    "    >>> (a*Dx + Dx**3)(x**4)\n",
    "    4*a*x**3 + 24*x\n",
    "\n",
    "    \"\"\"\n",
    "    def __new__(cls,ham, *coordmomenta):\n",
    "        obj = LieOperatorExpr.__new__(cls,ham,*coordmomenta)\n",
    "        obj._ham = obj._args[0]\n",
    "        return obj\n",
    "\n",
    "    @property\n",
    "    def coords(self):\n",
    "        return self._args[1:(len(self._args)+1)//2]\n",
    "    \n",
    "    @property\n",
    "    def momenta(self):\n",
    "        return self._args[(len(self._args)+1)//2:]\n",
    "    \n",
    "    @property\n",
    "    def hamiltonian(self):\n",
    "        return self._ham\n",
    "\n",
    "    def _hashable_content(self):\n",
    "        return tuple(sorted(self._args, key=hash))\n",
    "\n",
    "    def __call__(self, e):\n",
    "        terms = []\n",
    "        for c,m in zip(self.coords, self.momenta):\n",
    "            terms.append(Mul(diff(self.hamiltonian,c),diff(e,m)) -Mul(diff(self.hamiltonian,m),diff(e,c)))\n",
    "        return reduce(Add,terms)\n",
    "\n",
    "    def _eval_nseries(self, x, n, logx):\n",
    "        return self + Order(n)\n",
    "\n",
    "    def _latex(self, p):\n",
    "        return \"e^{:%s:}\" % self.hamiltonian.func\n",
    "#         rep = []\n",
    "\n",
    "#         for c,m in zip(self.coords,self.momenta):\n",
    "#             str1 = \"\\\\frac{\\partial %s}{\\partial %s}  \\\\frac{\\partial }{\\partial %s}\" % (p._print(self.hamiltonian),p._print(c),p._print(m))\n",
    "#             str2 = \"\\\\frac{\\partial %s}{\\partial %s}  \\\\frac{\\partial }{\\partial %s}\" % (p._print(self.hamiltonian),p._print(m),p._print(c))\n",
    "#             rep.append(str1 + ' - ' + str2)\n",
    "#         return ' + '.join(rep)\n",
    "        \n",
    "\n",
    "    def _needs_brackets(self):\n",
    "        return False\n",
    "\n",
    "class DOAdd(LieOperatorExpr, Add):\n",
    "    \"\"\"\n",
    "    A Sum of the LieOperator expressions.\n",
    "    \"\"\"\n",
    "\n",
    "    def __new__(cls, *args):\n",
    "\n",
    "        expr = Add.__new__(cls, *args)\n",
    "\n",
    "        if expr.is_Mul:\n",
    "            return DOMul(*expr.args)\n",
    "        return expr\n",
    "\n",
    "    def __call__(self, e):\n",
    "        return Add(*tuple(d(e) for d in self.args))\n",
    "\n",
    "\n",
    "    @classmethod\n",
    "    def flatten(cls, args):\n",
    "        new_seq = []\n",
    "        i = 0\n",
    "        while args:\n",
    "            o = args.pop()\n",
    "            if o.__class__ is cls:\n",
    "                args.extend(o.args)\n",
    "            else:\n",
    "                new_seq.append(o)\n",
    "        new_seq.reverse()\n",
    "        return new_seq, [], None\n",
    "    \n",
    "    \n",
    "    \n",
    "class DOMul(LieOperatorExpr, Mul):\n",
    "    def __new__(cls, *args):\n",
    "        if any(arg.is_zero for arg in args):\n",
    "            return S.Zero\n",
    "\n",
    "        expr = Mul.__new__(cls, *args)\n",
    "        print(args)\n",
    "        return expr\n",
    "\n",
    "    # is it needed?\n",
    "    @classmethod\n",
    "    def flatten(cls, args_seq):\n",
    "        return args_seq, [], None\n",
    "\n",
    "    def as_ordered_terms(self, order=None):\n",
    "        return self.args\n",
    "\n",
    "    @property\n",
    "    def coords(self):\n",
    "        c = ()\n",
    "        for d in self.args:\n",
    "            c += d.coords\n",
    "        return tuple(set(c))\n",
    "    \n",
    "    @property\n",
    "    def momenta(self):\n",
    "        m = ()\n",
    "        for d in self.args:\n",
    "            m += d.momenta\n",
    "        return tuple(set(m))\n",
    "    \n",
    "    def p(self,n):\n",
    "        F = sympy.Matrix(np.zeros((n+1,n+1)))\n",
    "        for i in range(n+1):\n",
    "            for j in range(n+1):\n",
    "                if (j-i)>=0:\n",
    "        #             F[i,j] = 1/(np.math.factorial(j-i))\n",
    "                    F[i,j] = sympy.Rational(1,int(fac(j-i))) # keep it rational !!!!\n",
    "\n",
    "        G = sympy.Matrix(np.zeros((n+1,n+1)))\n",
    "        for i in range(n+1):\n",
    "            for j in range(n+1):\n",
    "                if (j-i)>=0:\n",
    "                    if i==j:\n",
    "                        sigprod = 1\n",
    "                    else:\n",
    "                        l = sympy.symbols('s{}:{}'.format(i,j))\n",
    "                        sigprod = reduce(sympy.Mul,l)\n",
    "                    G[i,j] = sympy.Mul(sympy.Rational(1,int(np.math.factorial(j-i))),sigprod, evaluate=False)\n",
    "\n",
    "        qthpower = sympy.Matrix(np.eye(n+1))\n",
    "        FGm1 = sympy.nsimplify(F*G - qthpower)\n",
    "\n",
    "        summ = []\n",
    "\n",
    "        for q in range(1,n+1):\n",
    "            qthpower = sympy.nsimplify(sympy.MatMul(qthpower, FGm1, evaluate=False))\n",
    "\n",
    "            summ.append(sympy.nsimplify((-1)**(q-1)/q * qthpower)[0,n]) # q-1 because mathematica starts at 1 and not 0, there for sign change\n",
    "\n",
    "        return sympy.expand(reduce(functools.partial(sympy.Add,evaluate=False),summ))\n",
    "    \n",
    "    def translated(self,n,ham1_symbol,ham2_symbol):\n",
    "        l = sympy.symbols('s{}:{}'.format(0,n))\n",
    "        temp = reduce(functools.partial(sympy.Mul,evaluate=False),[k*k for k in l])\n",
    "        temp = sympy.expand(sympy.Mul(temp,  self.p(n), evaluate=False),evaluate=False)\n",
    "        with sympy.evaluate(False):\n",
    "            ln = sympy.symbols('r{}:{}'.format(0,n), commutative=False)\n",
    "            for i, s in enumerate(l):\n",
    "                temp = temp.subs(l[i],ln[i])\n",
    "            for i in range(n):\n",
    "                g = sympy.Symbol('g',commutative=False)\n",
    "                f = sympy.Symbol('f',commutative=False)\n",
    "                temp = temp.subs(ln[i]**3,g)\n",
    "                temp = temp.subs(ln[i]**2,f)\n",
    "        \n",
    "        temp = temp.subs(f,ham1_symbol)\n",
    "        temp = temp.subs(g,ham2_symbol)\n",
    "\n",
    "        return temp\n",
    "    \n",
    "    def SumTranslated(self,n,ham1_symbol,ham2_symbol):\n",
    "        return reduce(functools.partial(sympy.Add,evaluate=False),[self.translated(i,ham1_symbol,ham2_symbol) for i in range(1,n+1)])\n",
    "    \n",
    "    @property\n",
    "    def hamiltonian(self):\n",
    "        return self.SumTranslated(4,self.args[0].hamiltonian,self.args[1].hamiltonian).doit()\n",
    "\n",
    "    \n",
    "    \n",
    "    def __call__(self, e):\n",
    "        for e in self.args:\n",
    "            print('ok')\n",
    "        return e\n",
    "\n"
   ]
  },
  {
   "cell_type": "code",
   "execution_count": 88,
   "metadata": {},
   "outputs": [],
   "source": [
    "x = Symbol('x')\n",
    "px = Symbol('px')\n",
    "y = Symbol('y')\n",
    "py = Symbol('py')\n",
    "f = sympy.Function('f',commutative=False)(x,px)\n",
    "g = sympy.Function('g',commutative=False)(y,py)\n",
    "H = sympy.Function('H',commutative=False)(x,px,y,py)\n",
    "H1 = sympy.Function('H1',commutative=False)(x,px,y,py)\n",
    "H2 = sympy.Function('H2',commutative=False)(x,px,y,py)\n",
    "h = Symbol('h',commutative=False)\n",
    "loe = LieOperator(H,x,y,px,py)\n",
    "loe1 =LieOperator(H1,x,y,px,py)\n",
    "loe2 =LieOperator(H2,x,y,px,py)"
   ]
  },
  {
   "cell_type": "code",
   "execution_count": 95,
   "metadata": {},
   "outputs": [
    {
     "data": {
      "image/png": "[encoded data removed]",
      "text/latex": [
       "$$e^{:H1:} + e^{:H2:}$$"
      ],
      "text/plain": [
       "LieOperator(H1(x, px, y, py), x, y, px, py) + LieOperator(H2(x, px, y, py), x,\n",
       " y, px, py)"
      ]
     },
     "execution_count": 95,
     "metadata": {},
     "output_type": "execute_result"
    }
   ],
   "source": [
    "loe1+loe2"
   ]
  },
  {
   "cell_type": "code",
   "execution_count": 93,
   "metadata": {},
   "outputs": [
    {
     "name": "stdout",
     "output_type": "stream",
     "text": [
      "(LieOperator(H1(x, px, y, py), x, y, px, py), LieOperator(H2(x, px, y, py), x, y, px, py))\n"
     ]
    },
    {
     "data": {
      "image/png": "[encoded data removed]",
      "text/latex": [
       "$$\\operatorname{H_{1}}{\\left (x,px,y,py \\right )} + \\frac{\\operatorname{H_{1}}{\\left (x,px,y,py \\right )} \\operatorname{H_{2}}{\\left (x,px,y,py \\right )}}{2} - \\frac{\\operatorname{H_{1}}{\\left (x,px,y,py \\right )} \\operatorname{H_{2}}{\\left (x,px,y,py \\right )} \\operatorname{H_{1}}{\\left (x,px,y,py \\right )}}{6} - \\frac{\\operatorname{H_{1}}{\\left (x,px,y,py \\right )} \\operatorname{H_{2}}{\\left (x,px,y,py \\right )} \\operatorname{H_{1}}{\\left (x,px,y,py \\right )} \\operatorname{H_{2}}{\\left (x,px,y,py \\right )}}{12} + \\frac{\\operatorname{H_{1}}{\\left (x,px,y,py \\right )} \\operatorname{H_{2}}^{2}{\\left (x,px,y,py \\right )}}{12} + \\frac{\\operatorname{H_{1}}^{2}{\\left (x,px,y,py \\right )} \\operatorname{H_{2}}{\\left (x,px,y,py \\right )}}{12} + \\frac{\\operatorname{H_{1}}^{2}{\\left (x,px,y,py \\right )} \\operatorname{H_{2}}^{2}{\\left (x,px,y,py \\right )}}{24} + \\operatorname{H_{2}}{\\left (x,px,y,py \\right )} - \\frac{\\operatorname{H_{2}}{\\left (x,px,y,py \\right )} \\operatorname{H_{1}}{\\left (x,px,y,py \\right )}}{2} - \\frac{\\operatorname{H_{2}}{\\left (x,px,y,py \\right )} \\operatorname{H_{1}}{\\left (x,px,y,py \\right )} \\operatorname{H_{2}}{\\left (x,px,y,py \\right )}}{6} + \\frac{\\operatorname{H_{2}}{\\left (x,px,y,py \\right )} \\operatorname{H_{1}}{\\left (x,px,y,py \\right )} \\operatorname{H_{2}}{\\left (x,px,y,py \\right )} \\operatorname{H_{1}}{\\left (x,px,y,py \\right )}}{12} + \\frac{\\operatorname{H_{2}}{\\left (x,px,y,py \\right )} \\operatorname{H_{1}}^{2}{\\left (x,px,y,py \\right )}}{12} + \\frac{\\operatorname{H_{2}}^{2}{\\left (x,px,y,py \\right )} \\operatorname{H_{1}}{\\left (x,px,y,py \\right )}}{12} - \\frac{\\operatorname{H_{2}}^{2}{\\left (x,px,y,py \\right )} \\operatorname{H_{1}}^{2}{\\left (x,px,y,py \\right )}}{24}$$"
      ],
      "text/plain": [
       "                                                                              \n",
       "                   H₁(x, px, y, py)⋅H₂(x, px, y, py)   H₁(x, px, y, py)⋅H₂(x, \n",
       "H₁(x, px, y, py) + ───────────────────────────────── - ───────────────────────\n",
       "                                   2                                          \n",
       "\n",
       "                                                                              \n",
       "px, y, py)⋅H₁(x, px, y, py)   H₁(x, px, y, py)⋅H₂(x, px, y, py)⋅H₁(x, px, y, p\n",
       "─────────────────────────── - ────────────────────────────────────────────────\n",
       " 6                                                             12             \n",
       "\n",
       "                                         2                   2                \n",
       "y)⋅H₂(x, px, y, py)   H₁(x, px, y, py)⋅H₂ (x, px, y, py)   H₁ (x, px, y, py)⋅H\n",
       "─────────────────── + ────────────────────────────────── + ───────────────────\n",
       "                                      12                                   12 \n",
       "\n",
       "                    2                 2                                       \n",
       "₂(x, px, y, py)   H₁ (x, px, y, py)⋅H₂ (x, px, y, py)                      H₂(\n",
       "─────────────── + ─────────────────────────────────── + H₂(x, px, y, py) - ───\n",
       "                                   24                                         \n",
       "\n",
       "                                                                              \n",
       "x, px, y, py)⋅H₁(x, px, y, py)   H₂(x, px, y, py)⋅H₁(x, px, y, py)⋅H₂(x, px, y\n",
       "────────────────────────────── - ─────────────────────────────────────────────\n",
       "             2                                           6                    \n",
       "\n",
       "                                                                              \n",
       ", py)   H₂(x, px, y, py)⋅H₁(x, px, y, py)⋅H₂(x, px, y, py)⋅H₁(x, px, y, py)   \n",
       "───── + ─────────────────────────────────────────────────────────────────── + \n",
       "                                         12                                   \n",
       "\n",
       "                   2                   2                                    2 \n",
       "H₂(x, px, y, py)⋅H₁ (x, px, y, py)   H₂ (x, px, y, py)⋅H₁(x, px, y, py)   H₂ (\n",
       "────────────────────────────────── + ────────────────────────────────── - ────\n",
       "                12                                   12                       \n",
       "\n",
       "                2              \n",
       "x, px, y, py)⋅H₁ (x, px, y, py)\n",
       "───────────────────────────────\n",
       "             24                "
      ]
     },
     "execution_count": 93,
     "metadata": {},
     "output_type": "execute_result"
    }
   ],
   "source": [
    "(loe1*loe2).hamiltonian"
   ]
  },
  {
   "cell_type": "code",
   "execution_count": 97,
   "metadata": {},
   "outputs": [
    {
     "name": "stdout",
     "output_type": "stream",
     "text": [
      "(LieOperator(H1(x, px, y, py), x, y, px, py), LieOperator(H2(x, px, y, py), x, y, px, py))\n"
     ]
    },
    {
     "data": {
      "image/png": "[encoded data removed]",
      "text/latex": [
       "$$e^{:H1:} e^{:H2:}$$"
      ],
      "text/plain": [
       "LieOperator(H1(x, px, y, py), x, y, px, py)⋅LieOperator(H2(x, px, y, py), x, y\n",
       ", px, py)"
      ]
     },
     "execution_count": 97,
     "metadata": {},
     "output_type": "execute_result"
    }
   ],
   "source": [
    "loe1*loe2"
   ]
  },
  {
   "cell_type": "code",
   "execution_count": 98,
   "metadata": {},
   "outputs": [
    {
     "name": "stdout",
     "output_type": "stream",
     "text": [
      "(LieOperator(H1(x, px, y, py), x, y, px, py), LieOperator(H2(x, px, y, py), x, y, px, py))\n"
     ]
    }
   ],
   "source": [
    "loe12mul = loe1*loe2"
   ]
  },
  {
   "cell_type": "code",
   "execution_count": 100,
   "metadata": {},
   "outputs": [
    {
     "name": "stdout",
     "output_type": "stream",
     "text": [
      "ok\n",
      "ok\n"
     ]
    },
    {
     "data": {
      "image/png": "[encoded data removed]",
      "text/latex": [
       "$$e^{:H2:}$$"
      ],
      "text/plain": [
       "LieOperator(H2(x, px, y, py), x, y, px, py)"
      ]
     },
     "execution_count": 100,
     "metadata": {},
     "output_type": "execute_result"
    }
   ],
   "source": [
    "loe12mul(y)"
   ]
  },
  {
   "cell_type": "code",
   "execution_count": 32,
   "metadata": {},
   "outputs": [
    {
     "data": {
      "image/png": "[encoded data removed]",
      "text/latex": [
       "$$e^{:H1:} e^{:H2:}$$"
      ],
      "text/plain": [
       "LieOperator(H1(x, px, y, py), x, y, px, py)⋅LieOperator(H2(x, px, y, py), x, y\n",
       ", px, py)"
      ]
     },
     "execution_count": 32,
     "metadata": {},
     "output_type": "execute_result"
    }
   ],
   "source": [
    "Mul(loe1,loe2)"
   ]
  },
  {
   "cell_type": "code",
   "execution_count": 8,
   "metadata": {},
   "outputs": [
    {
     "data": {
      "image/png": "[encoded data removed]",
      "text/latex": [
       "$$e^{:H2:} e^{:H1:}$$"
      ],
      "text/plain": [
       "LieOperator(H2(x, px, y, py), x, y, px, py)⋅LieOperator(H1(x, px, y, py), x, y\n",
       ", px, py)"
      ]
     },
     "execution_count": 8,
     "metadata": {},
     "output_type": "execute_result"
    }
   ],
   "source": [
    "Mul(loe2,loe1)"
   ]
  },
  {
   "cell_type": "code",
   "execution_count": 564,
   "metadata": {},
   "outputs": [
    {
     "data": {
      "image/png": "[encoded data removed]",
      "text/latex": [
       "$$2 e^{:H1:} e^{:H2:}$$"
      ],
      "text/plain": [
       "2⋅LieOperator(H1(x, px, y, py), x, y, px, py)⋅LieOperator(H2(x, px, y, py), x,\n",
       " y, px, py)"
      ]
     },
     "execution_count": 564,
     "metadata": {},
     "output_type": "execute_result"
    }
   ],
   "source": [
    "Mul(loe1,loe2,2)\n",
    "# (loe1*loe2).SumTranslated(3,loe1.hamiltonian,loe2.hamiltonian)"
   ]
  },
  {
   "cell_type": "code",
   "execution_count": 491,
   "metadata": {},
   "outputs": [
    {
     "data": {
      "image/png": "[encoded data removed]",
      "text/latex": [
       "$$\\left ( x, \\quad y\\right )$$"
      ],
      "text/plain": [
       "(x, y)"
      ]
     },
     "execution_count": 491,
     "metadata": {},
     "output_type": "execute_result"
    }
   ],
   "source": [
    "loe.coords"
   ]
  },
  {
   "cell_type": "code",
   "execution_count": 492,
   "metadata": {},
   "outputs": [
    {
     "data": {
      "image/png": "[encoded data removed]",
      "text/latex": [
       "$$\\left ( px, \\quad py\\right )$$"
      ],
      "text/plain": [
       "(px, py)"
      ]
     },
     "execution_count": 492,
     "metadata": {},
     "output_type": "execute_result"
    }
   ],
   "source": [
    "loe.momenta"
   ]
  },
  {
   "cell_type": "code",
   "execution_count": 493,
   "metadata": {},
   "outputs": [
    {
     "data": {
      "image/png": "[encoded data removed]",
      "text/latex": [
       "$$H{\\left (x,px,y,py \\right )}$$"
      ],
      "text/plain": [
       "H(x, px, y, py)"
      ]
     },
     "execution_count": 493,
     "metadata": {},
     "output_type": "execute_result"
    }
   ],
   "source": [
    "loe.hamiltonian"
   ]
  },
  {
   "cell_type": "code",
   "execution_count": 494,
   "metadata": {},
   "outputs": [
    {
     "data": {
      "image/png": "[encoded data removed]",
      "text/latex": [
       "$$e^{:H:}$$"
      ],
      "text/plain": [
       "LieOperator(H(x, px, y, py), x, y, px, py)"
      ]
     },
     "execution_count": 494,
     "metadata": {},
     "output_type": "execute_result"
    }
   ],
   "source": [
    "loe"
   ]
  },
  {
   "cell_type": "code",
   "execution_count": 495,
   "metadata": {},
   "outputs": [
    {
     "data": {
      "image/png": "[encoded data removed]",
      "text/latex": [
       "$$- \\frac{\\partial}{\\partial px} H{\\left (x,px,y,py \\right )} \\frac{\\partial}{\\partial x} f{\\left (x,px \\right )} + \\frac{\\partial}{\\partial x} H{\\left (x,px,y,py \\right )} \\frac{\\partial}{\\partial px} f{\\left (x,px \\right )}$$"
      ],
      "text/plain": [
       "   ∂                   ∂              ∂                    ∂           \n",
       "- ───(H(x, px, y, py))⋅──(f(x, px)) + ──(H(x, px, y, py))⋅───(f(x, px))\n",
       "  ∂px                  ∂x             ∂x                  ∂px          "
      ]
     },
     "execution_count": 495,
     "metadata": {},
     "output_type": "execute_result"
    }
   ],
   "source": [
    "loe(f)"
   ]
  },
  {
   "cell_type": "code",
   "execution_count": 496,
   "metadata": {},
   "outputs": [
    {
     "data": {
      "image/png": "[encoded data removed]",
      "text/latex": [
       "$$- \\frac{d}{d px} x \\frac{\\partial}{\\partial x} f{\\left (x,px \\right )} + \\frac{d}{d x} x \\frac{\\partial}{\\partial px} f{\\left (x,px \\right )}$$"
      ],
      "text/plain": [
       "   d     ∂              d      ∂           \n",
       "- ───(x)⋅──(f(x, px)) + ──(x)⋅───(f(x, px))\n",
       "  dpx    ∂x             dx    ∂px          "
      ]
     },
     "execution_count": 496,
     "metadata": {},
     "output_type": "execute_result"
    }
   ],
   "source": [
    "loe(f).subs(H,x)"
   ]
  },
  {
   "cell_type": "code",
   "execution_count": 497,
   "metadata": {},
   "outputs": [
    {
     "data": {
      "image/png": "[encoded data removed]",
      "text/latex": [
       "$$\\frac{\\partial}{\\partial px} f{\\left (x,px \\right )}$$"
      ],
      "text/plain": [
       " ∂           \n",
       "───(f(x, px))\n",
       "∂px          "
      ]
     },
     "execution_count": 497,
     "metadata": {},
     "output_type": "execute_result"
    }
   ],
   "source": [
    "loe(f).subs(H,x).doit()"
   ]
  },
  {
   "cell_type": "code",
   "execution_count": 498,
   "metadata": {},
   "outputs": [
    {
     "data": {
      "image/png": "[encoded data removed]",
      "text/latex": [
       "$$- \\frac{\\partial}{\\partial py} H{\\left (x,px,y,py \\right )} \\frac{\\partial}{\\partial y} g{\\left (y,py \\right )} + \\frac{\\partial}{\\partial y} H{\\left (x,px,y,py \\right )} \\frac{\\partial}{\\partial py} g{\\left (y,py \\right )}$$"
      ],
      "text/plain": [
       "   ∂                   ∂              ∂                    ∂           \n",
       "- ───(H(x, px, y, py))⋅──(g(y, py)) + ──(H(x, px, y, py))⋅───(g(y, py))\n",
       "  ∂py                  ∂y             ∂y                  ∂py          "
      ]
     },
     "execution_count": 498,
     "metadata": {},
     "output_type": "execute_result"
    }
   ],
   "source": [
    "loe(g)"
   ]
  },
  {
   "cell_type": "code",
   "execution_count": 499,
   "metadata": {},
   "outputs": [
    {
     "data": {
      "image/png": "[encoded data removed]",
      "text/latex": [
       "$$- \\frac{d}{d py} x \\frac{\\partial}{\\partial y} g{\\left (y,py \\right )} + \\frac{d}{d y} x \\frac{\\partial}{\\partial py} g{\\left (y,py \\right )}$$"
      ],
      "text/plain": [
       "   d     ∂              d      ∂           \n",
       "- ───(x)⋅──(g(y, py)) + ──(x)⋅───(g(y, py))\n",
       "  dpy    ∂y             dy    ∂py          "
      ]
     },
     "execution_count": 499,
     "metadata": {},
     "output_type": "execute_result"
    }
   ],
   "source": [
    "loe(g).subs(H,x)"
   ]
  },
  {
   "cell_type": "code",
   "execution_count": 500,
   "metadata": {},
   "outputs": [
    {
     "data": {
      "image/png": "[encoded data removed]",
      "text/latex": [
       "$$0$$"
      ],
      "text/plain": [
       "0"
      ]
     },
     "execution_count": 500,
     "metadata": {},
     "output_type": "execute_result"
    }
   ],
   "source": [
    "loe(g).subs(H,x).doit()"
   ]
  },
  {
   "cell_type": "code",
   "execution_count": 501,
   "metadata": {},
   "outputs": [
    {
     "data": {
      "image/png": "[encoded data removed]",
      "text/latex": [
       "$$e^{:H1:} + e^{:H2:}$$"
      ],
      "text/plain": [
       "LieOperator(H1(x, px, y, py), x, y, px, py) + LieOperator(H2(x, px, y, py), x,\n",
       " y, px, py)"
      ]
     },
     "execution_count": 501,
     "metadata": {},
     "output_type": "execute_result"
    }
   ],
   "source": [
    "loe12 = loe1+loe2\n",
    "loe12"
   ]
  },
  {
   "cell_type": "code",
   "execution_count": 502,
   "metadata": {},
   "outputs": [
    {
     "data": {
      "image/png": "[encoded data removed]",
      "text/latex": [
       "$$- 3 \\frac{\\partial}{\\partial px} \\operatorname{H_{1}}{\\left (x,px,y,py \\right )} - \\frac{\\partial}{\\partial py} \\operatorname{H_{1}}{\\left (x,px,y,py \\right )} - 3 \\frac{\\partial}{\\partial px} \\operatorname{H_{2}}{\\left (x,px,y,py \\right )} - \\frac{\\partial}{\\partial py} \\operatorname{H_{2}}{\\left (x,px,y,py \\right )}$$"
      ],
      "text/plain": [
       "     ∂                       ∂                         ∂                      \n",
       "- 3⋅───(H₁(x, px, y, py)) - ───(H₁(x, px, y, py)) - 3⋅───(H₂(x, px, y, py)) - \n",
       "    ∂px                     ∂py                       ∂px                     \n",
       "\n",
       " ∂                   \n",
       "───(H₂(x, px, y, py))\n",
       "∂py                  "
      ]
     },
     "execution_count": 502,
     "metadata": {},
     "output_type": "execute_result"
    }
   ],
   "source": [
    "loe12(3*x+y)"
   ]
  },
  {
   "cell_type": "code",
   "execution_count": 451,
   "metadata": {},
   "outputs": [],
   "source": [
    "loe12 = Mul(loe1,loe2)"
   ]
  },
  {
   "cell_type": "code",
   "execution_count": 453,
   "metadata": {},
   "outputs": [
    {
     "data": {
      "image/png": "[encoded data removed]",
      "text/latex": [
       "$$e^{:H1:} e^{:H2:}$$"
      ],
      "text/plain": [
       "LieOperator(H1(x, px, y, py), x, y, px, py)⋅LieOperator(H2(x, px, y, py), x, y\n",
       ", px, py)"
      ]
     },
     "execution_count": 453,
     "metadata": {},
     "output_type": "execute_result"
    }
   ],
   "source": [
    "loe12.doit()"
   ]
  },
  {
   "cell_type": "code",
   "execution_count": 448,
   "metadata": {},
   "outputs": [
    {
     "ename": "AttributeError",
     "evalue": "'Mul' object has no attribute 'hamiltonian'",
     "output_type": "error",
     "traceback": [
      "\u001b[0;31m---------------------------------------------------------------------------\u001b[0m",
      "\u001b[0;31mAttributeError\u001b[0m                            Traceback (most recent call last)",
      "\u001b[0;32m<ipython-input-448-82f7225ebecd>\u001b[0m in \u001b[0;36m<module>\u001b[0;34m()\u001b[0m\n\u001b[0;32m----> 1\u001b[0;31m \u001b[0mloe12\u001b[0m\u001b[0;34m.\u001b[0m\u001b[0mhamiltonian\u001b[0m\u001b[0;34m\u001b[0m\u001b[0m\n\u001b[0m",
      "\u001b[0;31mAttributeError\u001b[0m: 'Mul' object has no attribute 'hamiltonian'"
     ]
    }
   ],
   "source": [
    "loe12.hamiltonian"
   ]
  },
  {
   "cell_type": "code",
   "execution_count": null,
   "metadata": {},
   "outputs": [],
   "source": []
  }
 ],
 "metadata": {
  "kernelspec": {
   "display_name": "Python [conda env:py35]",
   "language": "python",
   "name": "conda-env-py35-py"
  },
  "language_info": {
   "codemirror_mode": {
    "name": "ipython",
    "version": 3
   },
   "file_extension": ".py",
   "mimetype": "text/x-python",
   "name": "python",
   "nbconvert_exporter": "python",
   "pygments_lexer": "ipython3",
   "version": "3.5.2"
  }
 },
 "nbformat": 4,
 "nbformat_minor": 2
}
